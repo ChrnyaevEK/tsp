{
 "cells": [
  {
   "cell_type": "code",
   "execution_count": 7,
   "id": "13ee7f9d",
   "metadata": {},
   "outputs": [],
   "source": [
    "import numpy as np\n",
    "\n",
    "from typing import TypeVar\n",
    "from dataclasses import dataclass\n",
    "from matplotlib import pyplot as plt\n",
    "from typing import Any"
   ]
  },
  {
   "cell_type": "code",
   "execution_count": 8,
   "id": "de21b8fa",
   "metadata": {},
   "outputs": [],
   "source": [
    "TVertex = TypeVar('TVertex', bound='Vertex')\n",
    "\n",
    "\n",
    "@dataclass\n",
    "class Vertex:\n",
    "    x: float\n",
    "    y: float\n",
    "\n",
    "    def distance(self, to: TVertex):\n",
    "        return np.sqrt(np.power(self.x - to.x, 2) + np.power(self.y - to.y, 2))\n",
    "\n",
    "    def __repr__(self) -> str:\n",
    "        return f'V[{self.x}, {self.y}]'\n",
    "\n",
    "    def __eq__(self, other: TVertex):\n",
    "        assert isinstance(other, self.__class__)\n",
    "        return self.x == other.x and self.y == other.y\n",
    "\n",
    "\n",
    "class Descriptor:\n",
    "    \"\"\" Hold info about scene \"\"\"\n",
    "\n",
    "    scene: list[Vertex]\n",
    "\n",
    "    def __init__(self):\n",
    "        self.scene = []\n",
    "\n",
    "    def insert(self, vertex: Vertex):\n",
    "        for v in self.scene:\n",
    "            if v == vertex:\n",
    "                raise RuntimeError(f'Duplicate found for: {vertex}')\n",
    "        self.scene.append(vertex)\n"
   ]
  },
  {
   "cell_type": "markdown",
   "id": "8ef35be4",
   "metadata": {},
   "source": [
    "**Solver**"
   ]
  },
  {
   "cell_type": "code",
   "execution_count": 9,
   "id": "d363e8b8-2dcc-4006-a983-f526dd79fc90",
   "metadata": {},
   "outputs": [],
   "source": [
    "def sails_man_nn(start: Vertex, desc: Descriptor, visualization=False, verbose=False) -> list[Vertex]:\n",
    "    path: list[Vertex] = [start]\n",
    "    cost: list[float] = [0]\n",
    "\n",
    "    def _find_nn(origin: Vertex) -> Vertex:\n",
    "        neighbors = []\n",
    "        for v in desc.scene:\n",
    "            if v not in path:\n",
    "                neighbors.append((v, origin.distance(v)))\n",
    "\n",
    "        neighbors_str = \", \".join(\n",
    "            [f\"-> {v} ({c:.2f})\" for v, c in neighbors] or '-'\n",
    "        )\n",
    "\n",
    "        if verbose:\n",
    "            print(f'Neighbors: {neighbors_str}')\n",
    "\n",
    "        try:\n",
    "            return min(neighbors, key=lambda x: x[1])\n",
    "        except ValueError:\n",
    "            raise RuntimeError('No alailable vertexes')\n",
    "\n",
    "    def _solver(origin: Vertex) -> Vertex:\n",
    "        if verbose:\n",
    "            print(f' - Solving: {origin}')\n",
    "\n",
    "        try:\n",
    "            nn, c = _find_nn(origin)\n",
    "        except RuntimeError:\n",
    "            print('End reached.')\n",
    "            return\n",
    "\n",
    "        if verbose:\n",
    "            print(f'Solution: {nn} ({c})')\n",
    "\n",
    "        path.append(nn)\n",
    "        cost.append(c)\n",
    "\n",
    "        _solver(nn)\n",
    "\n",
    "    _solver(start)\n",
    "\n",
    "    print('Path: ',\n",
    "          ' -> '.join([str(v) for v in path]),\n",
    "          f'Total cost: {sum(cost):.2f}')\n",
    "\n",
    "    if visualization:\n",
    "        assert hasattr(desc.scene[0], 'x')\n",
    "        assert hasattr(desc.scene[0], 'y')\n",
    "\n",
    "        fig, ax = plt.subplots()\n",
    "\n",
    "        _prev: Vertex = None\n",
    "        for v, c in zip(path, cost):\n",
    "            ax.scatter(v.x, v.y, label=str(v))\n",
    "\n",
    "            if _prev is not None:\n",
    "                ax.plot([_prev.x, v.x], [_prev.y, v.y])\n",
    "\n",
    "            _prev = v\n",
    "        ax.legend()\n"
   ]
  },
  {
   "cell_type": "markdown",
   "id": "e48c2b93",
   "metadata": {},
   "source": [
    "**Simple graph implementation**"
   ]
  },
  {
   "cell_type": "code",
   "execution_count": 10,
   "id": "f1f66347",
   "metadata": {},
   "outputs": [
    {
     "name": "stdout",
     "output_type": "stream",
     "text": [
      "End reached.\n",
      "Path:  V[0, 3] -> V[1, 1] -> V[2, 2] -> V[4, 3] -> V[3, 5] -> V[2, 5] -> V[1, 6] -> V[3, 7] -> V[6, 7] Total cost: 15.77\n"
     ]
    },
    {
     "data": {
      "image/png": "[encoded data removed]",
      "text/plain": [
       "<Figure size 432x288 with 1 Axes>"
      ]
     },
     "metadata": {
      "needs_background": "light"
     },
     "output_type": "display_data"
    }
   ],
   "source": [
    "sim_desc = Descriptor()\n",
    "\n",
    "sim_desc.insert(Vertex(0, 3))\n",
    "sim_desc.insert(Vertex(1, 1))\n",
    "sim_desc.insert(Vertex(2, 2))\n",
    "sim_desc.insert(Vertex(4, 3))\n",
    "sim_desc.insert(Vertex(3, 5))\n",
    "sim_desc.insert(Vertex(1, 6))\n",
    "sim_desc.insert(Vertex(6, 7))\n",
    "sim_desc.insert(Vertex(3, 7))\n",
    "sim_desc.insert(Vertex(2, 5))\n",
    "\n",
    "sails_man_nn(sim_desc.scene[0], sim_desc, True, False)"
   ]
  }
 ],
 "metadata": {
  "kernelspec": {
   "display_name": "Python 3.9.12 ('base')",
   "language": "python",
   "name": "python3"
  },
  "language_info": {
   "codemirror_mode": {
    "name": "ipython",
    "version": 3
   },
   "file_extension": ".py",
   "mimetype": "text/x-python",
   "name": "python",
   "nbconvert_exporter": "python",
   "pygments_lexer": "ipython3",
   "version": "3.9.12"
  },
  "vscode": {
   "interpreter": {
    "hash": "7078a8259a9da47834674846d2e014006b0221395b32cf5c78ba3b01ceef5db1"
   }
  }
 },
 "nbformat": 4,
 "nbformat_minor": 5
}
